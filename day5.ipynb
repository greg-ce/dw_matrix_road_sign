{
  "nbformat": 4,
  "nbformat_minor": 0,
  "metadata": {
    "colab": {
      "name": "day5.ipynb",
      "provenance": [],
      "collapsed_sections": [],
      "mount_file_id": "1byQrSKrejQdEwFG6Z7xxCA8GZmgUBXXf",
      "authorship_tag": "ABX9TyOrCNldsngxBt2UjSyLB1hv",
      "include_colab_link": true
    },
    "kernelspec": {
      "name": "python3",
      "display_name": "Python 3"
    },
    "accelerator": "GPU"
  },
  "cells": [
    {
      "cell_type": "markdown",
      "metadata": {
        "id": "view-in-github",
        "colab_type": "text"
      },
      "source": [
        "<a href=\"https://colab.research.google.com/github/greg-ce/dw_matrix_road_sign/blob/master/day5.ipynb\" target=\"_parent\"><img src=\"https://colab.research.google.com/assets/colab-badge.svg\" alt=\"Open In Colab\"/></a>"
      ]
    },
    {
      "cell_type": "code",
      "metadata": {
        "id": "0dDpQGs-5JUi",
        "colab_type": "code",
        "colab": {
          "base_uri": "https://localhost:8080/",
          "height": 34
        },
        "outputId": "6496defc-5476-40a4-af66-30cbfd0c3f6c"
      },
      "source": [
        "#w oparciu o day4\n",
        "cd '/content/drive/My Drive/Colab Notebooks/dw_matrix/matrix_three/dw_matrix_road_sign/'"
      ],
      "execution_count": 1,
      "outputs": [
        {
          "output_type": "stream",
          "text": [
            "/content/drive/My Drive/Colab Notebooks/dw_matrix/matrix_three/dw_matrix_road_sign\n"
          ],
          "name": "stdout"
        }
      ]
    },
    {
      "cell_type": "code",
      "metadata": {
        "id": "o_krrye_5kOw",
        "colab_type": "code",
        "colab": {}
      },
      "source": [
        "import pandas as pd\n",
        "import numpy as np\n",
        "import os\n",
        "import datetime\n",
        "\n",
        "import tensorflow as tf\n",
        "from tensorflow.keras.models import Sequential\n",
        "from tensorflow.keras.layers import Conv2D, MaxPool2D, Dense, Flatten, Dropout\n",
        "from tensorflow.keras.utils import to_categorical\n",
        "\n",
        "%load_ext tensorboard\n",
        "\n",
        "import matplotlib.pyplot as plt\n",
        "from skimage import color, exposure\n",
        "\n",
        "from sklearn.metrics import accuracy_score\n",
        "\n",
        "from hyperopt import hp, STATUS_OK, tpe, Trials, fmin"
      ],
      "execution_count": 0,
      "outputs": []
    },
    {
      "cell_type": "code",
      "metadata": {
        "id": "QJvlDzvl5x_I",
        "colab_type": "code",
        "colab": {}
      },
      "source": [
        "train = pd.read_pickle('data/train.p')\n",
        "test = pd.read_pickle('data/test.p')\n",
        "\n",
        "X_train, y_train = train['features'], train['labels']\n",
        "X_test, y_test = test['features'], test['labels']"
      ],
      "execution_count": 0,
      "outputs": []
    },
    {
      "cell_type": "code",
      "metadata": {
        "id": "cfxVZqzB6GAF",
        "colab_type": "code",
        "colab": {}
      },
      "source": [
        "if y_train.ndim == 1: y_train = to_categorical(y_train)\n",
        "if y_test.ndim == 1: y_test = to_categorical(y_test)\n",
        "\n",
        "input_shape = X_train.shape[1:]\n",
        "num_classes = y_train.shape[1]"
      ],
      "execution_count": 0,
      "outputs": []
    },
    {
      "cell_type": "code",
      "metadata": {
        "id": "S7A8C-Gh6Ntc",
        "colab_type": "code",
        "colab": {
          "base_uri": "https://localhost:8080/",
          "height": 34
        },
        "outputId": "61733be0-f437-4b80-d818-626f4c542a8b"
      },
      "source": [
        "def train_model(model, X_train, y_train, params_fit={}):\n",
        "  model.compile(loss='categorical_crossentropy', optimizer='Adam', metrics=['accuracy'])\n",
        "\n",
        "  logdir = os.path.join(\"logs\", datetime.datetime.now().strftime(\"%Y%m%d-%H%M%S\"))\n",
        "  tensorboard_callback = tf.keras.callbacks.TensorBoard(logdir, histogram_freq=1)\n",
        "\n",
        "  model.fit(\n",
        "      X_train,\n",
        "      y_train,\n",
        "      batch_size=params_fit.get('batch_size', 128),\n",
        "      epochs=params_fit.get('epochs', 5),\n",
        "      verbose=params_fit.get('verbose', 1),\n",
        "      validation_data=params_fit.get('validation_data', (X_train, y_train)),\n",
        "      callbacks=[tensorboard_callback]\n",
        "  )\n",
        "\n",
        "  return model\n",
        "\n",
        "  def predict(model_trained, X_test, y_test, scoring=accuracy_score):   \n",
        "  \n",
        "    y_test_norm = np.argmax(y_test, axis=1)\n",
        "\n",
        "    y_pred_prob = model_trained.predict(X_test)\n",
        "    y_pred = np.argmax(y_pred_prob, axis=1)\n",
        "\n",
        "    return scoring(y_test_norm, y_pred)"
      ],
      "execution_count": 5,
      "outputs": [
        {
          "output_type": "stream",
          "text": [
            "ERROR! Session/line number was not unique in database. History logging moved to new session 59\n"
          ],
          "name": "stdout"
        }
      ]
    },
    {
      "cell_type": "code",
      "metadata": {
        "id": "Fcpbs2DC6_5c",
        "colab_type": "code",
        "colab": {}
      },
      "source": [
        "def get_cnn_v5(input_shape, num_classes):\n",
        "  return Sequential([\n",
        "    Conv2D(filters=32, kernel_size=(3, 3), activation='relu', input_shape=input_shape),\n",
        "    Conv2D(filters=32, kernel_size=(3, 3), activation='relu', padding='same'),\n",
        "    MaxPool2D(),\n",
        "    Dropout(0.3),\n",
        "\n",
        "    Conv2D(filters=64, kernel_size=(3, 3), activation='relu', padding='same'),\n",
        "    Conv2D(filters=64, kernel_size=(3, 3), activation='relu'),\n",
        "    MaxPool2D(),\n",
        "    Dropout(0.3),\n",
        "\n",
        "    Conv2D(filters=64, kernel_size=(3, 3), activation='relu', padding='same'),\n",
        "    Conv2D(filters=64, kernel_size=(3, 3), activation='relu'),\n",
        "    MaxPool2D(),\n",
        "    Dropout(0.3),\n",
        "\n",
        "    Flatten(),\n",
        "\n",
        "    Dense(1024, activation='relu'),\n",
        "    Dropout(0.3),\n",
        "\n",
        "    Dense(1024, activation='relu'),\n",
        "    Dropout(0.3),\n",
        "\n",
        "    Dense(num_classes, activation='softmax'),\n",
        "  ])\n",
        "\n",
        "#get_cnn_v4(input_shape, num_classes).summary()\n",
        "#train_and_predict(get_cnn_v5(input_shape, num_classes))"
      ],
      "execution_count": 0,
      "outputs": []
    },
    {
      "cell_type": "code",
      "metadata": {
        "id": "C9fxl8ni7PQf",
        "colab_type": "code",
        "colab": {
          "base_uri": "https://localhost:8080/",
          "height": 207
        },
        "outputId": "7831f6b1-fefb-4417-f828-c8e82c822e98"
      },
      "source": [
        "model = get_cnn_v5(input_shape, num_classes)\n",
        "model_trained = train_model(model, X_train, y_train)"
      ],
      "execution_count": 7,
      "outputs": [
        {
          "output_type": "stream",
          "text": [
            "Epoch 1/5\n",
            "272/272 [==============================] - 13s 48ms/step - loss: 2.5085 - accuracy: 0.2981 - val_loss: 1.0447 - val_accuracy: 0.6797\n",
            "Epoch 2/5\n",
            "272/272 [==============================] - 12s 45ms/step - loss: 0.8156 - accuracy: 0.7382 - val_loss: 0.1965 - val_accuracy: 0.9404\n",
            "Epoch 3/5\n",
            "272/272 [==============================] - 12s 45ms/step - loss: 0.3517 - accuracy: 0.8911 - val_loss: 0.0778 - val_accuracy: 0.9777\n",
            "Epoch 4/5\n",
            "272/272 [==============================] - 12s 45ms/step - loss: 0.2238 - accuracy: 0.9335 - val_loss: 0.0524 - val_accuracy: 0.9858\n",
            "Epoch 5/5\n",
            "272/272 [==============================] - 12s 46ms/step - loss: 0.1763 - accuracy: 0.9486 - val_loss: 0.0373 - val_accuracy: 0.9882\n"
          ],
          "name": "stdout"
        }
      ]
    },
    {
      "cell_type": "code",
      "metadata": {
        "id": "s_qPhf8W9Dll",
        "colab_type": "code",
        "colab": {
          "base_uri": "https://localhost:8080/",
          "height": 51
        },
        "outputId": "31c38b1f-d0a5-4f1c-dc4f-d5be630c24c1"
      },
      "source": [
        "model_trained.evaluate(X_test, y_test)[1]"
      ],
      "execution_count": 10,
      "outputs": [
        {
          "output_type": "stream",
          "text": [
            "138/138 [==============================] - 1s 6ms/step - loss: 0.0978 - accuracy: 0.9696\n"
          ],
          "name": "stdout"
        },
        {
          "output_type": "execute_result",
          "data": {
            "text/plain": [
              "0.9696145057678223"
            ]
          },
          "metadata": {
            "tags": []
          },
          "execution_count": 10
        }
      ]
    },
    {
      "cell_type": "code",
      "metadata": {
        "id": "nJX14ciu-6g7",
        "colab_type": "code",
        "colab": {}
      },
      "source": [
        "def get_model(params):\n",
        "  return Sequential([\n",
        "    Conv2D(filters=32, kernel_size=(3, 3), activation='relu', input_shape=input_shape),\n",
        "    Conv2D(filters=32, kernel_size=(3, 3), activation='relu', padding='same'),\n",
        "    MaxPool2D(),\n",
        "    Dropout(params['dropout_cnn_block_one']),\n",
        "\n",
        "    Conv2D(filters=64, kernel_size=(3, 3), activation='relu', padding='same'),\n",
        "    Conv2D(filters=64, kernel_size=(3, 3), activation='relu'),\n",
        "    MaxPool2D(),\n",
        "    Dropout(params['dropout_cnn_block_two']),\n",
        "\n",
        "    Conv2D(filters=128, kernel_size=(3, 3), activation='relu', padding='same'),\n",
        "    Conv2D(filters=128, kernel_size=(3, 3), activation='relu'),\n",
        "    MaxPool2D(),\n",
        "    Dropout(params['dropout_cnn_block_three']),\n",
        "\n",
        "    Flatten(),\n",
        "\n",
        "    Dense(1024, activation='relu'),\n",
        "    Dropout(params['dropout_dense_block_one']),\n",
        "\n",
        "    Dense(1024, activation='relu'),\n",
        "    Dropout(params['dropout_dense_block_two']),\n",
        "\n",
        "    Dense(num_classes, activation='softmax'),\n",
        "  ])"
      ],
      "execution_count": 0,
      "outputs": []
    },
    {
      "cell_type": "code",
      "metadata": {
        "colab_type": "code",
        "id": "KTXEGEaYD2DD",
        "colab": {}
      },
      "source": [
        "def func_obj(params):\n",
        "  #model = get_cnn_v5(input_shape, num_classes)\n",
        "  model = get_model(params)\n",
        "  model.compile(loss='categorical_crossentropy', optimizer='Adam', metrics=['accuracy'])\n",
        "\n",
        "  #logdir = os.path.join(\"logs\", datetime.datetime.now().strftime(\"%Y%m%d-%H%M%S\"))\n",
        "  #tensorboard_callback = tf.keras.callbacks.TensorBoard(logdir, histogram_freq=1)\n",
        "\n",
        "  model.fit(\n",
        "      X_train,\n",
        "      y_train,\n",
        "      batch_size=int(params.get('batch_size', 128)),\n",
        "      #epochs=params.get('epochs', 5),\n",
        "      epochs=5,\n",
        "      #verbose=params_fit.get('verbose', 1),\n",
        "      verbose=0,\n",
        "      #validation_data=params_fit.get('validation_data', (X_train, y_train)),\n",
        "      #callbacks=[tensorboard_callback]\n",
        "  )\n",
        "\n",
        "  #accuracy = model.evaluate(X_test, y_test)[0]\n",
        "  score = model.evaluate(X_test, y_test, verbose = 0)\n",
        "  accuracy = score[1]\n",
        "  print(params, 'accuracy={}'.format(accuracy))\n",
        "\n",
        "  return {'loss': -accuracy, 'status': STATUS_OK, 'model': model}"
      ],
      "execution_count": 0,
      "outputs": []
    },
    {
      "cell_type": "code",
      "metadata": {
        "id": "i10KKf_M-Hdr",
        "colab_type": "code",
        "colab": {
          "base_uri": "https://localhost:8080/",
          "height": 1000
        },
        "outputId": "e490d111-6dfb-4db1-a266-4f65ccd2f615"
      },
      "source": [
        "space = {\n",
        "    'batch_size': hp.quniform('batch_size', 100, 200, 10),\n",
        "    'dropout_cnn_block_one': hp.uniform('dropout_cnn_block_one', 0.3, 0.5),\n",
        "    'dropout_cnn_block_two': hp.uniform('dropout_cnn_block_two', 0.3, 0.5),\n",
        "    'dropout_cnn_block_three': hp.uniform('dropout_cnn_block_three', 0.3, 0.5),\n",
        "    'dropout_dense_block_one': hp.uniform('dropout_dense_block_one', 0.3, 0.7),\n",
        "    'dropout_dense_block_two': hp.uniform('dropout_dense_block_two', 0.3, 0.7),\n",
        "}\n",
        "\n",
        "best = fmin(\n",
        "    func_obj,\n",
        "    space,\n",
        "    tpe.suggest,\n",
        "    30,\n",
        "    Trials()\n",
        ")"
      ],
      "execution_count": 32,
      "outputs": [
        {
          "output_type": "stream",
          "text": [
            "{'batch_size': 130.0, 'dropout_cnn_block_one': 0.40871070701916923, 'dropout_cnn_block_three': 0.4387259691565153, 'dropout_cnn_block_two': 0.42645497105579677, 'dropout_dense_block_one': 0.3515341568315401, 'dropout_dense_block_two': 0.46862872081859364}\n",
            "accuracy=0.9494330883026123\n",
            "{'batch_size': 160.0, 'dropout_cnn_block_one': 0.4964341972277343, 'dropout_cnn_block_three': 0.44149068124604174, 'dropout_cnn_block_two': 0.41357677325861053, 'dropout_dense_block_one': 0.4346481909984788, 'dropout_dense_block_two': 0.5976509790291322}\n",
            "accuracy=0.8732426166534424\n",
            "{'batch_size': 180.0, 'dropout_cnn_block_one': 0.3366321042429717, 'dropout_cnn_block_three': 0.34914985513362157, 'dropout_cnn_block_two': 0.31523930142359285, 'dropout_dense_block_one': 0.6769506978918284, 'dropout_dense_block_two': 0.368732182195785}\n",
            "accuracy=0.9741496443748474\n",
            "{'batch_size': 140.0, 'dropout_cnn_block_one': 0.4953921359540314, 'dropout_cnn_block_three': 0.43385161457043153, 'dropout_cnn_block_two': 0.47103839223107735, 'dropout_dense_block_one': 0.4748991655210676, 'dropout_dense_block_two': 0.4957992149979598}\n",
            "accuracy=0.8979591727256775\n",
            "{'batch_size': 180.0, 'dropout_cnn_block_one': 0.45901178507239676, 'dropout_cnn_block_three': 0.4737679357225842, 'dropout_cnn_block_two': 0.3750402776315541, 'dropout_dense_block_one': 0.49544464538298644, 'dropout_dense_block_two': 0.5600352796575152}\n",
            "accuracy=0.8834466934204102\n",
            "{'batch_size': 150.0, 'dropout_cnn_block_one': 0.49139991052048115, 'dropout_cnn_block_three': 0.4481647706347648, 'dropout_cnn_block_two': 0.38269906085965544, 'dropout_dense_block_one': 0.3175616813814482, 'dropout_dense_block_two': 0.661194552714634}\n",
            "accuracy=0.9195011258125305\n",
            "{'batch_size': 140.0, 'dropout_cnn_block_one': 0.49216266564019906, 'dropout_cnn_block_three': 0.329204396605164, 'dropout_cnn_block_two': 0.4295559390490998, 'dropout_dense_block_one': 0.38705870915575846, 'dropout_dense_block_two': 0.5103625393214433}\n",
            "accuracy=0.9265305995941162\n",
            "{'batch_size': 110.0, 'dropout_cnn_block_one': 0.36921330552500076, 'dropout_cnn_block_three': 0.32320070687846236, 'dropout_cnn_block_two': 0.45375440704826125, 'dropout_dense_block_one': 0.6668112929378228, 'dropout_dense_block_two': 0.34043126825806475}\n",
            "accuracy=0.9437641501426697\n",
            "{'batch_size': 150.0, 'dropout_cnn_block_one': 0.40039272588054986, 'dropout_cnn_block_three': 0.4181445692402078, 'dropout_cnn_block_two': 0.3212102579106346, 'dropout_dense_block_one': 0.4068075897340677, 'dropout_dense_block_two': 0.49258204779447673}\n",
            "accuracy=0.9310657382011414\n",
            "{'batch_size': 190.0, 'dropout_cnn_block_one': 0.32887053460812193, 'dropout_cnn_block_three': 0.3955898219100051, 'dropout_cnn_block_two': 0.42455131964107934, 'dropout_dense_block_one': 0.5833408364611254, 'dropout_dense_block_two': 0.6133741092774012}\n",
            "accuracy=0.9331066012382507\n",
            "{'batch_size': 200.0, 'dropout_cnn_block_one': 0.4718082758172886, 'dropout_cnn_block_three': 0.44821711840604794, 'dropout_cnn_block_two': 0.35943535799339765, 'dropout_dense_block_one': 0.4899647216266665, 'dropout_dense_block_two': 0.4329224875612146}\n",
            "accuracy=0.9294784665107727\n",
            "{'batch_size': 190.0, 'dropout_cnn_block_one': 0.4349284593990026, 'dropout_cnn_block_three': 0.3869177701044489, 'dropout_cnn_block_two': 0.4586305198132814, 'dropout_dense_block_one': 0.618148820466385, 'dropout_dense_block_two': 0.5121780444629104}\n",
            "accuracy=0.8104308247566223\n",
            "{'batch_size': 140.0, 'dropout_cnn_block_one': 0.45289252943023484, 'dropout_cnn_block_three': 0.34832316019575404, 'dropout_cnn_block_two': 0.41726999136993526, 'dropout_dense_block_one': 0.6586581175207672, 'dropout_dense_block_two': 0.590466762042885}\n",
            "accuracy=0.8188208341598511\n",
            "{'batch_size': 110.0, 'dropout_cnn_block_one': 0.33642866849684516, 'dropout_cnn_block_three': 0.40987874672083463, 'dropout_cnn_block_two': 0.35222782226767274, 'dropout_dense_block_one': 0.6076046803152011, 'dropout_dense_block_two': 0.5542707097439135}\n",
            "accuracy=0.9505668878555298\n",
            "{'batch_size': 110.0, 'dropout_cnn_block_one': 0.37335828744914323, 'dropout_cnn_block_three': 0.4414616391191988, 'dropout_cnn_block_two': 0.4031323603702449, 'dropout_dense_block_one': 0.44970568165454483, 'dropout_dense_block_two': 0.5669701652631189}\n",
            "accuracy=0.960090696811676\n",
            "{'batch_size': 190.0, 'dropout_cnn_block_one': 0.3584907202386927, 'dropout_cnn_block_three': 0.3798298337044434, 'dropout_cnn_block_two': 0.39744269838773744, 'dropout_dense_block_one': 0.6804587249997418, 'dropout_dense_block_two': 0.3520432729919592}\n",
            "accuracy=0.9195011258125305\n",
            "{'batch_size': 110.0, 'dropout_cnn_block_one': 0.45608069722131167, 'dropout_cnn_block_three': 0.32127338296078467, 'dropout_cnn_block_two': 0.4767817649570564, 'dropout_dense_block_one': 0.5535999419857442, 'dropout_dense_block_two': 0.4924131840861379}\n",
            "accuracy=0.9197278618812561\n",
            "{'batch_size': 120.0, 'dropout_cnn_block_one': 0.46838066007388496, 'dropout_cnn_block_three': 0.48104306193872215, 'dropout_cnn_block_two': 0.44171525854049865, 'dropout_dense_block_one': 0.5373515247412918, 'dropout_dense_block_two': 0.5988839446824501}\n",
            "accuracy=0.8024943470954895\n",
            "{'batch_size': 170.0, 'dropout_cnn_block_one': 0.33350562814628243, 'dropout_cnn_block_three': 0.40176759638259524, 'dropout_cnn_block_two': 0.4974336595168786, 'dropout_dense_block_one': 0.3173283591941347, 'dropout_dense_block_two': 0.4849785671370108}\n",
            "accuracy=0.9657596349716187\n",
            "{'batch_size': 180.0, 'dropout_cnn_block_one': 0.4645358761426146, 'dropout_cnn_block_three': 0.4026414506861721, 'dropout_cnn_block_two': 0.31794076192864823, 'dropout_dense_block_one': 0.6720778582242319, 'dropout_dense_block_two': 0.6147266100805475}\n",
            "accuracy=0.8476190567016602\n",
            "{'batch_size': 170.0, 'dropout_cnn_block_one': 0.30820789229876766, 'dropout_cnn_block_three': 0.36098683703358436, 'dropout_cnn_block_two': 0.49093256475669356, 'dropout_dense_block_one': 0.32607126338826187, 'dropout_dense_block_two': 0.39270518018163614}\n",
            "accuracy=0.9628117680549622\n",
            "{'batch_size': 170.0, 'dropout_cnn_block_one': 0.30135737664032497, 'dropout_cnn_block_three': 0.3008667022422477, 'dropout_cnn_block_two': 0.30020760692652393, 'dropout_dense_block_one': 0.5286232316829472, 'dropout_dense_block_two': 0.31443281144721463}\n",
            "accuracy=0.9519274234771729\n",
            "{'batch_size': 170.0, 'dropout_cnn_block_one': 0.32674037626253566, 'dropout_cnn_block_three': 0.3604130380986403, 'dropout_cnn_block_two': 0.33018256296667786, 'dropout_dense_block_one': 0.30157774355605643, 'dropout_dense_block_two': 0.3976400297634375}\n",
            "accuracy=0.9625850319862366\n",
            "{'batch_size': 160.0, 'dropout_cnn_block_one': 0.3469188278141618, 'dropout_cnn_block_three': 0.3735346424199878, 'dropout_cnn_block_two': 0.3039639367925262, 'dropout_dense_block_one': 0.3899866630059358, 'dropout_dense_block_two': 0.43614719106313904}\n",
            "accuracy=0.9852607846260071\n",
            "{'batch_size': 160.0, 'dropout_cnn_block_one': 0.35316960790942525, 'dropout_cnn_block_three': 0.3719916955780712, 'dropout_cnn_block_two': 0.30843949297957435, 'dropout_dense_block_one': 0.36922114502219, 'dropout_dense_block_two': 0.430213772751159}\n",
            "accuracy=0.9614512324333191\n",
            "{'batch_size': 200.0, 'dropout_cnn_block_one': 0.3761680779649212, 'dropout_cnn_block_three': 0.34374632779221603, 'dropout_cnn_block_two': 0.339862862178731, 'dropout_dense_block_one': 0.43976264071931304, 'dropout_dense_block_two': 0.306754830833922}\n",
            "accuracy=0.960544228553772\n",
            "{'batch_size': 160.0, 'dropout_cnn_block_one': 0.310707121751166, 'dropout_cnn_block_three': 0.30568575362456885, 'dropout_cnn_block_two': 0.3004015315002188, 'dropout_dense_block_one': 0.40786868017330175, 'dropout_dense_block_two': 0.3806080138924433}\n",
            "accuracy=0.9691609740257263\n",
            "{'batch_size': 180.0, 'dropout_cnn_block_one': 0.4197524065160453, 'dropout_cnn_block_three': 0.3430648993702752, 'dropout_cnn_block_two': 0.34218198494931995, 'dropout_dense_block_one': 0.6975355175278457, 'dropout_dense_block_two': 0.44082991519403264}\n",
            "accuracy=0.9272108674049377\n",
            "{'batch_size': 130.0, 'dropout_cnn_block_one': 0.38779430412960547, 'dropout_cnn_block_three': 0.36900521710214995, 'dropout_cnn_block_two': 0.3635562113797059, 'dropout_dense_block_one': 0.6243414793903065, 'dropout_dense_block_two': 0.3604224542500838}\n",
            "accuracy=0.9662131667137146\n",
            "{'batch_size': 160.0, 'dropout_cnn_block_one': 0.34582401416182, 'dropout_cnn_block_three': 0.31172525010647534, 'dropout_cnn_block_two': 0.31483099301538076, 'dropout_dense_block_one': 0.3670863173633101, 'dropout_dense_block_two': 0.46398723034173667}\n",
            "accuracy=0.9553288221359253\n",
            "100%|██████████| 30/30 [22:20<00:00, 44.69s/it, best loss: -0.9852607846260071]\n"
          ],
          "name": "stdout"
        }
      ]
    },
    {
      "cell_type": "code",
      "metadata": {
        "id": "qz7pkUbaEm7n",
        "colab_type": "code",
        "colab": {}
      },
      "source": [
        ""
      ],
      "execution_count": 0,
      "outputs": []
    }
  ]
}